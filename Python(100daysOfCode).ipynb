{
 "cells": [
  {
   "cell_type": "markdown",
   "id": "62ffc9a7-23d2-4e58-9a8b-a0ddd818dec2",
   "metadata": {},
   "source": [
    "### Print Statements"
   ]
  },
  {
   "cell_type": "code",
   "execution_count": 3,
   "id": "b170d7fe-ede2-4006-afa7-c5657d5c28cf",
   "metadata": {},
   "outputs": [
    {
     "name": "stdout",
     "output_type": "stream",
     "text": [
      "Hello World\n",
      "8\n",
      "Bye 9\n"
     ]
    }
   ],
   "source": [
    "print(\"Hello World\")\n",
    "print(8)\n",
    "print(\"Bye\", 9)"
   ]
  },
  {
   "cell_type": "markdown",
   "id": "ad4db02e-ff8b-407e-82f8-554dd77e0fce",
   "metadata": {},
   "source": [
    "### Escape Sequence"
   ]
  },
  {
   "cell_type": "code",
   "execution_count": 6,
   "id": "86b4eae5-b7c6-4834-bd82-bb2c03b025b2",
   "metadata": {},
   "outputs": [
    {
     "name": "stdout",
     "output_type": "stream",
     "text": [
      "My name is \"Samarth Agrawal\" and I am handsome\n"
     ]
    }
   ],
   "source": [
    "print(\"My name is \\\"Samarth Agrawal\\\" and I am handsome\")"
   ]
  },
  {
   "cell_type": "markdown",
   "id": "6a394338-9abc-4e1b-8491-12946e04e0df",
   "metadata": {},
   "source": [
    "##### If '\\' not used then it would give error and same goes with single quotes as well."
   ]
  },
  {
   "cell_type": "markdown",
   "id": "5e1a7183-b51d-4d26-83f8-d31297f7bb21",
   "metadata": {},
   "source": [
    "#### Parameters of \"print\" Statement\n",
    "--> Separate = sep(~)\n",
    "\n",
    "--> End = Specify what to print at the end."
   ]
  },
  {
   "cell_type": "code",
   "execution_count": 16,
   "id": "a82eff7c-a0dd-4368-bbd8-6f7b71c1f82b",
   "metadata": {},
   "outputs": [
    {
     "name": "stdout",
     "output_type": "stream",
     "text": [
      "Heyy~8~10\n",
      "I am Samarth009Agrawal\n"
     ]
    }
   ],
   "source": [
    "print(\"Heyy\", 8, 10, sep=\"~\")\n",
    "print(\"I am Samarth\", end =\"009\")\n",
    "print(\"Agrawal\")"
   ]
  },
  {
   "cell_type": "markdown",
   "id": "9d6b5c73-78a8-468f-80bb-509c040fba23",
   "metadata": {},
   "source": [
    "## EX1 - CALCULATOR using PYTHON OPERATORS"
   ]
  },
  {
   "cell_type": "code",
   "execution_count": 6,
   "id": "83ad5171-177c-4fc9-8c89-6aba502c049c",
   "metadata": {},
   "outputs": [
    {
     "name": "stdout",
     "output_type": "stream",
     "text": [
      "The value of 9 + 5 is : 14\n",
      "The value of 9 - 5 is : 4\n",
      "The value of 9 / 5 is : 1.8\n",
      "The value of 9 // 5 is : 1\n",
      "The value of 9 % 5 is : 4\n",
      "The value of 9 ** 5 is : 59049\n"
     ]
    }
   ],
   "source": [
    "a=9\n",
    "b=5\n",
    "print(\"The value of\", a, \"+\" ,b, \"is :\", a+b)\n",
    "print(\"The value of\", a, \"-\" ,b, \"is :\", a-b)\n",
    "print(\"The value of\", a, \"/\" ,b, \"is :\", a/b)\n",
    "print(\"The value of\", a, \"//\" ,b, \"is :\", a//b)\n",
    "print(\"The value of\", a, \"%\" ,b, \"is :\", a%b)\n",
    "print(\"The value of\", a, \"**\" ,b, \"is :\", a**b)"
   ]
  },
  {
   "cell_type": "markdown",
   "id": "5010f537-9418-4d63-a4ef-00ce87adf23d",
   "metadata": {},
   "source": [
    "#### Typecasting error"
   ]
  },
  {
   "cell_type": "code",
   "execution_count": 9,
   "id": "bbb9d8af-2699-468b-931b-52a52be22023",
   "metadata": {},
   "outputs": [
    {
     "name": "stdout",
     "output_type": "stream",
     "text": [
      "14\n"
     ]
    }
   ],
   "source": [
    "a=\"1\"\n",
    "b=\"4\"\n",
    "print(a+b) ## just concatenated"
   ]
  },
  {
   "cell_type": "code",
   "execution_count": 11,
   "id": "b2ae15df-fbde-4535-8e85-97bf5024fd21",
   "metadata": {},
   "outputs": [
    {
     "name": "stdout",
     "output_type": "stream",
     "text": [
      "5\n"
     ]
    }
   ],
   "source": [
    "a=1\n",
    "b=4\n",
    "print(a+b)"
   ]
  },
  {
   "cell_type": "code",
   "execution_count": 14,
   "id": "6dd75af1-c012-4156-8c3f-95113d8c8f76",
   "metadata": {},
   "outputs": [
    {
     "name": "stdout",
     "output_type": "stream",
     "text": [
      "5\n"
     ]
    }
   ],
   "source": [
    "a=\"1\"\n",
    "b=\"4\"\n",
    "print(int(a)+int(b))   #Typecasted"
   ]
  },
  {
   "cell_type": "markdown",
   "id": "80f0d34c-4800-4605-8828-5084b4c1d2fe",
   "metadata": {},
   "source": [
    "## Two types of type casting:\n",
    "i) Implicit \n",
    "\n",
    "ii) Explicit"
   ]
  },
  {
   "cell_type": "code",
   "execution_count": 18,
   "id": "2d089138-aff3-4b02-8780-1f47aeec1a51",
   "metadata": {},
   "outputs": [
    {
     "name": "stdout",
     "output_type": "stream",
     "text": [
      "5\n"
     ]
    }
   ],
   "source": [
    "a=\"1\"\n",
    "b=\"4\"\n",
    "print(int(a)+int(b))   #Explicit Type Conversion"
   ]
  },
  {
   "cell_type": "code",
   "execution_count": 22,
   "id": "4a044ea3-104f-4fd9-93dc-b605d1182a59",
   "metadata": {},
   "outputs": [
    {
     "name": "stdout",
     "output_type": "stream",
     "text": [
      "<class 'str'>\n",
      "<class 'int'>\n",
      "9.9\n"
     ]
    }
   ],
   "source": [
    "c=1.9\n",
    "print(type(a))\n",
    "d=8\n",
    "print(type(d))\n",
    "print(c+d)          #Implicit Type Conversion"
   ]
  },
  {
   "cell_type": "markdown",
   "id": "56564659-a4e5-4244-8373-b5a237092fc4",
   "metadata": {},
   "source": [
    "## STRING METHODS"
   ]
  },
  {
   "cell_type": "code",
   "execution_count": 48,
   "id": "978e8877-19c4-4bf9-9aa9-17be364e5b7f",
   "metadata": {},
   "outputs": [
    {
     "name": "stdout",
     "output_type": "stream",
     "text": [
      "SAMARTH\n",
      "samarth\n",
      "Helloo \n",
      "Mamundar Mhahi Mhaam\n",
      "['Samundar', 'Shahi', 'Shaam']\n",
      "Samthy\n",
      "      Samarth       \n",
      "2\n",
      "True\n",
      "True\n",
      "9\n",
      "6\n",
      "True\n",
      "False\n",
      "False\n",
      "False\n",
      "True\n",
      "True\n",
      "False\n",
      "True\n",
      "sAMARTH\n",
      "Samundar Shahi Shaam\n"
     ]
    }
   ],
   "source": [
    "a=\"Samarth\"\n",
    "b=\"Helloo !!!!\"\n",
    "c=\"Samundar Shahi Shaam\"\n",
    "d=\"samThy\"\n",
    "e=\"Sam09\"\n",
    "f=\"Sam\\n\"\n",
    "g=\"         \"\n",
    "print(a.upper())           #converts every character to upper case\n",
    "print(a.lower())           #converts every character to lower case\n",
    "print(b.rstrip(\"!\"))       #strips the character you want from the string but works only for trailing characters and not for starting\n",
    "print(c.replace(\"S\",\"M\"))  #replaces all occurences of a string with another\n",
    "print(c.split(\" \"))        #slpits each string before and after space into a list\n",
    "print(d.capitalize())      #converts first char. to capital and rest small\n",
    "print(a.center(20))        #aligns the string to center as per the parameters\n",
    "print(a.count(\"a\"))\n",
    "print(a.endswith(\"h\"))\n",
    "print(a.endswith(\"t\",3,6))\n",
    "print(c.find(\"Shahi\"))     #returns index where found\n",
    "print(a.index(\"h\"))\n",
    "print(a.isalnum())         #should contain only A-Z, a-z, 0-9 in the whole string\n",
    "print(e.isalpha())         #should only contain A-Z,a-z\n",
    "print(a.islower())         #returns true if all char. are lower\n",
    "print(f.isprintable())     #should contain only printable chars in this false as \\n not printable\n",
    "print(g.isspace())         #should only contain white spaces\n",
    "print(c.istitle())\n",
    "print(a.isupper())\n",
    "print(a.startswith(\"S\"))\n",
    "print(a.swapcase())       #converts small to capital and capital to small\n",
    "print(c.title())"
   ]
  },
  {
   "cell_type": "markdown",
   "id": "d5c5588b-37f4-434a-a750-b391a633f334",
   "metadata": {},
   "source": [
    "### If else and Nested if else"
   ]
  },
  {
   "cell_type": "code",
   "execution_count": 2,
   "id": "3588919e-a552-417a-bf2a-8dfd67d1e073",
   "metadata": {},
   "outputs": [
    {
     "name": "stdout",
     "output_type": "stream",
     "text": [
      "Number is between 11-20\n"
     ]
    }
   ],
   "source": [
    "num = 18\n",
    "if (num < 0):\n",
    "    print(\"Number is negative.\")\n",
    "elif (num > 0):\n",
    "    if (num <= 10):\n",
    "        print(\"Number is between 1-10\")\n",
    "    elif (num > 10 and num <= 20):\n",
    "        print(\"Number is between 11-20\")\n",
    "    else:\n",
    "        print(\"Number is greater than 20\")\n",
    "else:\n",
    "    print(\"Number is zero\")"
   ]
  },
  {
   "cell_type": "markdown",
   "id": "a7271241-01c3-4089-9633-c4494f6b1821",
   "metadata": {},
   "source": [
    "## EX2 - Good Morning Sir"
   ]
  },
  {
   "cell_type": "code",
   "execution_count": 7,
   "id": "2194251c-cca6-41d1-8821-18a4e211729e",
   "metadata": {},
   "outputs": [
    {
     "name": "stdin",
     "output_type": "stream",
     "text": [
      "Enter hour:  14\n"
     ]
    },
    {
     "name": "stdout",
     "output_type": "stream",
     "text": [
      "14\n",
      "Good Afternoon Sir!\n"
     ]
    }
   ],
   "source": [
    "import time\n",
    "t = time.strftime('%H:%M:%S') \n",
    "hour = int(time.strftime('%H'))\n",
    "hour = int(input(\"Enter hour: \"))\n",
    "print(hour)\n",
    "\n",
    "if(hour>=0 and hour<12):\n",
    "  print(\"Good Morning Sir!\")\n",
    "elif(hour>=12 and hour<17):\n",
    "  print(\"Good Afternoon Sir!\")\n",
    "elif(hour>=17 and hour<0):\n",
    "  print(\"Good Night Sir!\")"
   ]
  },
  {
   "cell_type": "markdown",
   "id": "e9224f52-91ba-4476-a588-e411fd774661",
   "metadata": {},
   "source": [
    "## Match Case Statements"
   ]
  },
  {
   "cell_type": "code",
   "execution_count": 10,
   "id": "5545ab56-23f6-4fc2-91e0-fb66794dbcb6",
   "metadata": {},
   "outputs": [
    {
     "name": "stdin",
     "output_type": "stream",
     "text": [
      "Enter the value of x:  4\n"
     ]
    },
    {
     "name": "stdout",
     "output_type": "stream",
     "text": [
      "case is 4\n"
     ]
    }
   ],
   "source": [
    "x = int(input(\"Enter the value of x: \"))\n",
    "# x is the variable to match\n",
    "match x:\n",
    "    # if x is 0\n",
    "    case 0:\n",
    "        print(\"x is zero\")\n",
    "    # case with if-condition\n",
    "    case 4:\n",
    "        print(\"case is 4\")\n",
    "    case _:       # default case\n",
    "        print(x)"
   ]
  },
  {
   "cell_type": "markdown",
   "id": "e0f709ae-9939-4e8b-a7f2-77883a0b61d9",
   "metadata": {},
   "source": [
    "### FOR Loops"
   ]
  },
  {
   "cell_type": "code",
   "execution_count": 13,
   "id": "387aa56d-32d1-4817-8519-5346ab8e69c7",
   "metadata": {},
   "outputs": [
    {
     "name": "stdout",
     "output_type": "stream",
     "text": [
      "A\n",
      "b\n",
      "h\n",
      "i\n",
      "s\n",
      "h\n",
      "e\n",
      "k\n"
     ]
    }
   ],
   "source": [
    "name = 'Abhishek'\n",
    "for i in name:\n",
    "    print(i)"
   ]
  },
  {
   "cell_type": "code",
   "execution_count": 3,
   "id": "5d779622-d0c7-4b8f-8e6f-ef6d88a42806",
   "metadata": {},
   "outputs": [
    {
     "name": "stdout",
     "output_type": "stream",
     "text": [
      "Red\n",
      "Green\n",
      "Blue\n",
      "Yellow\n"
     ]
    }
   ],
   "source": [
    "colors = [\"Red\", \"Green\", \"Blue\", \"Yellow\"]\n",
    "for color in colors:\n",
    "    print(color)"
   ]
  },
  {
   "cell_type": "markdown",
   "id": "51709ba6-70ce-4359-aaf5-652e2c88cd7b",
   "metadata": {},
   "source": [
    "### Break ststements"
   ]
  },
  {
   "cell_type": "code",
   "execution_count": 3,
   "id": "3c75efa7-b6e8-4e8e-a17c-56db953286d5",
   "metadata": {},
   "outputs": [
    {
     "name": "stdout",
     "output_type": "stream",
     "text": [
      "5 X 1 = 5\n",
      "5 X 2 = 10\n",
      "5 X 3 = 15\n",
      "5 X 4 = 20\n",
      "5 X 5 = 25\n",
      "5 X 6 = 30\n",
      "5 X 7 = 35\n",
      "5 X 8 = 40\n",
      "5 X 9 = 45\n",
      "5 X 10 = 50\n"
     ]
    }
   ],
   "source": [
    "for i in range(12):\n",
    "    if(i==10):\n",
    "        break\n",
    "    print(\"5 X\", i+1, \"=\", 5*(i+1))"
   ]
  },
  {
   "cell_type": "markdown",
   "id": "3816ba47-4ba1-476f-b7df-2d9678168abe",
   "metadata": {},
   "source": [
    "## FUNCTIONS"
   ]
  },
  {
   "cell_type": "code",
   "execution_count": 7,
   "id": "25c84824-5e00-49e9-8fcc-c4420e7321b4",
   "metadata": {},
   "outputs": [
    {
     "name": "stdout",
     "output_type": "stream",
     "text": [
      "4.235294117647059\n",
      "7.219512195121951\n"
     ]
    }
   ],
   "source": [
    "def calculateGmean(a, b):\n",
    "  mean = (a*b)/(a+b)\n",
    "  print(mean)\n",
    "\n",
    "a = 9\n",
    "b = 8\n",
    "calculateGmean(a, b)\n",
    "c = 8\n",
    "d = 74\n",
    "calculateGmean(c, d)"
   ]
  },
  {
   "cell_type": "code",
   "execution_count": 9,
   "id": "b43fe711-592f-4e79-980d-d5f0ff2dfc9e",
   "metadata": {},
   "outputs": [
    {
     "name": "stdout",
     "output_type": "stream",
     "text": [
      "First number is greater\n",
      "Second number is greater or equal\n"
     ]
    }
   ],
   "source": [
    "def isGreater(a, b):\n",
    "  if(a>b):\n",
    "    print(\"First number is greater\")\n",
    "  else:\n",
    "    print(\"Second number is greater or equal\")\n",
    "\n",
    "a = 9\n",
    "b = 8\n",
    "isGreater(a, b)\n",
    "c = 8\n",
    "d = 74\n",
    "isGreater(c, d)"
   ]
  },
  {
   "cell_type": "markdown",
   "id": "457ec460-3aa1-4bb5-ac75-500da9ff0db7",
   "metadata": {},
   "source": [
    "## TYPES OF ARGUMENTS\n",
    "\n",
    "i) Default Arg\n",
    "\n",
    "ii) Keyword Arg\n",
    "\n",
    "iii) Variable Length Arg\n",
    "\n",
    "iv) Required Arg\n",
    "\n",
    "Two types of var length arg\n",
    "\n",
    "--> Arbitrary Arg\n",
    "\n",
    "--> Keyword Arbitrary Arg"
   ]
  },
  {
   "cell_type": "code",
   "execution_count": 16,
   "id": "b4fb03bc-1e8f-41ca-b174-e18f2f105cb7",
   "metadata": {},
   "outputs": [
    {
     "name": "stdout",
     "output_type": "stream",
     "text": [
      "The avg is 5.0\n"
     ]
    }
   ],
   "source": [
    "def avg(a=4,b=6):\n",
    "    print(\"The avg is\", (a+b)/2)\n",
    "avg()   #Default arg"
   ]
  },
  {
   "cell_type": "code",
   "execution_count": 20,
   "id": "5dc2c3f1-d072-47fd-8992-d4c4fc763247",
   "metadata": {},
   "outputs": [
    {
     "name": "stdout",
     "output_type": "stream",
     "text": [
      "The avg is 3.0\n"
     ]
    }
   ],
   "source": [
    "def avg(a,b):\n",
    "    print(\"The avg is\", (a+b)/2)\n",
    "avg(b=4,a=2)   #keyword arg"
   ]
  },
  {
   "cell_type": "code",
   "execution_count": 24,
   "id": "6c41f13b-3ba9-4904-bbe7-739cce5ec8f6",
   "metadata": {},
   "outputs": [
    {
     "name": "stdout",
     "output_type": "stream",
     "text": [
      "The avg is 5.0\n"
     ]
    }
   ],
   "source": [
    "def avg(a,b,c):\n",
    "    print(\"The avg is\", (a+b+c)/3)\n",
    "avg(4,6,5)   #required arg"
   ]
  },
  {
   "cell_type": "code",
   "execution_count": 29,
   "id": "91b788d0-462e-4e2d-bef6-7889e6ef5b98",
   "metadata": {},
   "outputs": [
    {
     "name": "stdout",
     "output_type": "stream",
     "text": [
      "<class 'tuple'>\n",
      "The avg is 7.0\n"
     ]
    }
   ],
   "source": [
    "def avg(*num):\n",
    "    print(type(num)) #for finding the type of parameter\n",
    "    sum=0\n",
    "    for i in num:\n",
    "        sum=sum+i\n",
    "    print(\"The avg is\",sum/len(num))\n",
    "avg(6,8)    #arbitrary arg"
   ]
  },
  {
   "cell_type": "code",
   "execution_count": 35,
   "id": "57864868-5b65-441e-91cd-ac6453d81221",
   "metadata": {},
   "outputs": [
    {
     "name": "stdout",
     "output_type": "stream",
     "text": [
      "<class 'dict'>\n",
      "Hello, Preeti Samarth Anjali\n"
     ]
    }
   ],
   "source": [
    "def name(**name):\n",
    "    print(type(name)) #for finding the type of parameter\n",
    "    print(\"Hello,\", name[\"fname\"],name[\"mname\"],name[\"lname\"])\n",
    "name(mname=\"Samarth\", fname=\"Preeti\", lname=\"Anjali\")    #keyword arbitrary arg"
   ]
  },
  {
   "cell_type": "markdown",
   "id": "57a15d94-21dc-4c35-86bb-54fbee2f43de",
   "metadata": {},
   "source": [
    "### Return Statement"
   ]
  },
  {
   "cell_type": "code",
   "execution_count": 40,
   "id": "058afe4e-de1a-4128-bf26-823add16f7cb",
   "metadata": {},
   "outputs": [
    {
     "name": "stdout",
     "output_type": "stream",
     "text": [
      "7.0\n"
     ]
    }
   ],
   "source": [
    "def avg(*num):\n",
    "    sum=0\n",
    "    for i in num:\n",
    "        sum=sum+i\n",
    "    return sum/len(num)\n",
    "c=avg(5,9)\n",
    "print(c)"
   ]
  },
  {
   "cell_type": "code",
   "execution_count": 44,
   "id": "d72c7474-2c26-4612-b74d-d4c358202ece",
   "metadata": {},
   "outputs": [
    {
     "name": "stdout",
     "output_type": "stream",
     "text": [
      "None\n"
     ]
    }
   ],
   "source": [
    "def avg(*num):\n",
    "    sum=0\n",
    "    for i in num:\n",
    "        sum=sum+i\n",
    "    \n",
    "c=avg(5,9)\n",
    "print(c)  ## if no return statement it will return NONE"
   ]
  },
  {
   "cell_type": "markdown",
   "id": "84e86c33-4e70-4f76-8044-e4d9a19e2938",
   "metadata": {},
   "source": [
    "## EX2 - Kaun Banega Crorepati"
   ]
  },
  {
   "cell_type": "code",
   "execution_count": 1,
   "id": "042aec66-d8d0-4db7-a85d-945bed0d775b",
   "metadata": {},
   "outputs": [
    {
     "name": "stdout",
     "output_type": "stream",
     "text": [
      "\n",
      "\n",
      "Question for Rs. 1000\n",
      "a. Python          b. French \n",
      "c. JavaScript          d. Php \n"
     ]
    },
    {
     "name": "stdin",
     "output_type": "stream",
     "text": [
      "Enter your answer (1-4) or  0 to quit:\n",
      " 4\n"
     ]
    },
    {
     "name": "stdout",
     "output_type": "stream",
     "text": [
      "Correct answer, you have won Rs. 1000\n",
      "\n",
      "\n",
      "Question for Rs. 2000\n",
      "a. Samarth          b. Raj \n",
      "c. Mayank          d. James \n"
     ]
    },
    {
     "name": "stdin",
     "output_type": "stream",
     "text": [
      "Enter your answer (1-4) or  0 to quit:\n",
      " 1\n"
     ]
    },
    {
     "name": "stdout",
     "output_type": "stream",
     "text": [
      "Correct answer, you have won Rs. 2000\n",
      "\n",
      "\n",
      "Question for Rs. 3000\n",
      "a. Yes          b. Maybe \n",
      "c. No          d. Canbe \n"
     ]
    },
    {
     "name": "stdin",
     "output_type": "stream",
     "text": [
      "Enter your answer (1-4) or  0 to quit:\n",
      " 5\n"
     ]
    },
    {
     "name": "stdout",
     "output_type": "stream",
     "text": [
      "Wrong answer!\n",
      "Your take home money is 0\n"
     ]
    }
   ],
   "source": [
    "questions = [\n",
    "  [\n",
    "    \"Which language was used to create fb?\", \"Python\", \"French\", \"JavaScript\",\n",
    "    \"Php\", \"None\", 4\n",
    "  ],\n",
    "  [\n",
    "    \"What is your name?\", \"Samarth\", \"Raj\", \"Mayank\",\n",
    "    \"James\", \"None\", 1\n",
    "  ],\n",
    "  [\n",
    "    \"Do u have a crush?\", \"Yes\", \"Maybe\", \"No\",\n",
    "    \"Canbe\", \"None\", 2\n",
    "  ],\n",
    "  [\n",
    "    \"Which language was used to create fb?\", \"Python\", \"French\", \"JavaScript\",\n",
    "    \"Php\", \"None\", 4\n",
    "  ],\n",
    "  [\n",
    "    \"Which language was used to create fb?\", \"Python\", \"French\", \"JavaScript\",\n",
    "    \"Php\", \"None\", 4\n",
    "  ],\n",
    "  [\n",
    "    \"Which language was used to create fb?\", \"Python\", \"French\", \"JavaScript\",\n",
    "    \"Php\", \"None\", 4\n",
    "  ],\n",
    "  [\n",
    "    \"Which language was used to create fb?\", \"Python\", \"French\", \"JavaScript\",\n",
    "    \"Php\", \"None\", 4\n",
    "  ],\n",
    "  [\n",
    "    \"Which language was used to create fb?\", \"Python\", \"French\", \"JavaScript\",\n",
    "    \"Php\", \"None\", 4\n",
    "  ],\n",
    "  [\n",
    "    \"Which language was used to create fb?\", \"Python\", \"French\", \"JavaScript\",\n",
    "    \"Php\", \"None\", 4\n",
    "  ],\n",
    "  [\n",
    "    \"Which language was used to create fb?\", \"Python\", \"French\", \"JavaScript\",\n",
    "    \"Php\", \"None\", 4\n",
    "  ],\n",
    "  [\n",
    "    \"Which language was used to create fb?\", \"Python\", \"French\", \"JavaScript\",\n",
    "    \"Php\", \"None\", 4\n",
    "  ],\n",
    "  [\n",
    "    \"Which language was used to create fb?\", \"Python\", \"French\", \"JavaScript\",\n",
    "    \"Php\", \"None\", 4\n",
    "  ],\n",
    "  [\n",
    "    \"Which language was used to create fb?\", \"Python\", \"French\", \"JavaScript\",\n",
    "    \"Php\", \"None\", 4\n",
    "  ],\n",
    "  [\n",
    "    \"Which language was used to create fb?\", \"Python\", \"French\", \"JavaScript\",\n",
    "    \"Php\", \"None\", 4\n",
    "  ],\n",
    "  [\n",
    "    \"Which language was used to create fb?\", \"Python\", \"French\", \"JavaScript\",\n",
    "    \"Php\", \"None\", 4\n",
    "  ],\n",
    "  [\n",
    "    \"Which language was used to create fb?\", \"Python\", \"French\", \"JavaScript\",\n",
    "    \"Php\", \"None\", 4\n",
    "  ],\n",
    "  [\n",
    "    \"Which language was used to create fb?\", \"Python\", \"French\", \"JavaScript\",\n",
    "    \"Php\", \"None\", 4\n",
    "  ],\n",
    "  [\n",
    "    \"Which language was used to create fb?\", \"Python\", \"French\", \"JavaScript\",\n",
    "    \"Php\", \"None\", 4\n",
    "  ],\n",
    "  [\n",
    "    \"Which language was used to create fb?\", \"Python\", \"French\", \"JavaScript\",\n",
    "    \"Php\", \"None\", 4\n",
    "  ],\n",
    "  [\n",
    "    \"Which language was used to create fb?\", \"Python\", \"French\", \"JavaScript\",\n",
    "    \"Php\", \"None\", 4\n",
    "  ],\n",
    "  [\n",
    "    \"Which language was used to create fb?\", \"Python\", \"French\", \"JavaScript\",\n",
    "    \"Php\", \"None\", 4\n",
    "  ],\n",
    "  [\n",
    "    \"Which language was used to create fb?\", \"Python\", \"French\", \"JavaScript\",\n",
    "    \"Php\", \"None\", 4\n",
    "  ],\n",
    "  [\n",
    "    \"Which language was used to create fb?\", \"Python\", \"French\", \"JavaScript\",\n",
    "    \"Php\", \"None\", 4\n",
    "  ],\n",
    "  [\n",
    "    \"Which language was used to create fb?\", \"Python\", \"French\", \"JavaScript\",\n",
    "    \"Php\", \"None\", 4\n",
    "  ],\n",
    "]\n",
    "\n",
    "levels = [1000, 2000, 3000, 5000, 10000, 20000, 40000, 80000, 160000, 320000]\n",
    "money = 0\n",
    "for i in range(0, len(questions)):\n",
    "  \n",
    "  question = questions[i]\n",
    "  print(f\"\\n\\nQuestion for Rs. {levels[i]}\")\n",
    "  print(f\"a. {question[1]}          b. {question[2]} \")\n",
    "  print(f\"c. {question[3]}          d. {question[4]} \")\n",
    "  reply = int(input(\"Enter your answer (1-4) or  0 to quit:\\n\" ))\n",
    "  if (reply == 0):\n",
    "    money = levels[i-1]\n",
    "    break\n",
    "  if(reply == question[-1]):\n",
    "    print(f\"Correct answer, you have won Rs. {levels[i]}\")\n",
    "    if(i == 4):\n",
    "      money = 10000\n",
    "    elif(i == 9):\n",
    "      money = 320000\n",
    "    elif(i == 14):\n",
    "      money = 10000000\n",
    "  else:\n",
    "    print(\"Wrong answer!\")\n",
    "    break \n",
    "\n",
    "print(f\"Your take home money is {money}\")"
   ]
  },
  {
   "cell_type": "markdown",
   "id": "d75ac7e6-3760-40ae-b862-e7322a6da1b2",
   "metadata": {},
   "source": [
    "### String Formatting"
   ]
  },
  {
   "cell_type": "code",
   "execution_count": 4,
   "id": "8f15bf33-76ea-455a-8a67-6823f6749b6c",
   "metadata": {},
   "outputs": [
    {
     "name": "stdout",
     "output_type": "stream",
     "text": [
      "Hey !! My name is Samarth Agrawal and I am from India.\n"
     ]
    }
   ],
   "source": [
    "letter=\"Hey !! My name is {} and I am from {}.\"\n",
    "name=\"Samarth Agrawal\"\n",
    "country=\"India\"\n",
    "print(letter.format(name,country))"
   ]
  },
  {
   "cell_type": "markdown",
   "id": "7b52c3a7-5444-445f-9ce1-340eee448565",
   "metadata": {},
   "source": [
    "### f-string in Python"
   ]
  },
  {
   "cell_type": "code",
   "execution_count": 9,
   "id": "eda9c15b-08e6-405f-94cb-f7bcc9ac6571",
   "metadata": {},
   "outputs": [
    {
     "name": "stdout",
     "output_type": "stream",
     "text": [
      "Hey !! I am Samarth Agrawal and I live in India.\n"
     ]
    }
   ],
   "source": [
    "name=\"Samarth Agrawal\"\n",
    "country=\"India\"\n",
    "print(f\"Hey !! I am {name} and I live in {country}.\")"
   ]
  },
  {
   "cell_type": "code",
   "execution_count": 17,
   "id": "2e45948f-d8ea-458d-90fe-35e166fe10e2",
   "metadata": {},
   "outputs": [
    {
     "name": "stdout",
     "output_type": "stream",
     "text": [
      "Your total amount is 45.10 rupees.\n"
     ]
    }
   ],
   "source": [
    "price=45.09999\n",
    "print(f\"Your total amount is {price:.2f} rupees.\")"
   ]
  },
  {
   "cell_type": "markdown",
   "id": "7434053d-f3e5-4865-96f2-27abf0c506c8",
   "metadata": {},
   "source": [
    "## Zen of Python\n",
    "\n",
    "It is a poem."
   ]
  },
  {
   "cell_type": "code",
   "execution_count": 5,
   "id": "b0035f2e-8bc9-41c4-9c60-8d3262ff59f0",
   "metadata": {},
   "outputs": [
    {
     "name": "stdout",
     "output_type": "stream",
     "text": [
      "The Zen of Python, by Tim Peters\n",
      "\n",
      "Beautiful is better than ugly.\n",
      "Explicit is better than implicit.\n",
      "Simple is better than complex.\n",
      "Complex is better than complicated.\n",
      "Flat is better than nested.\n",
      "Sparse is better than dense.\n",
      "Readability counts.\n",
      "Special cases aren't special enough to break the rules.\n",
      "Although practicality beats purity.\n",
      "Errors should never pass silently.\n",
      "Unless explicitly silenced.\n",
      "In the face of ambiguity, refuse the temptation to guess.\n",
      "There should be one-- and preferably only one --obvious way to do it.\n",
      "Although that way may not be obvious at first unless you're Dutch.\n",
      "Now is better than never.\n",
      "Although never is often better than *right* now.\n",
      "If the implementation is hard to explain, it's a bad idea.\n",
      "If the implementation is easy to explain, it may be a good idea.\n",
      "Namespaces are one honking great idea -- let's do more of those!\n"
     ]
    }
   ],
   "source": [
    "import this"
   ]
  },
  {
   "cell_type": "markdown",
   "id": "a852c565-82ed-4bf8-a4ea-6eff5fb8e8a1",
   "metadata": {},
   "source": [
    "### Recursion"
   ]
  },
  {
   "cell_type": "markdown",
   "id": "fb80032f-7f52-460e-818a-1d3e1115ad49",
   "metadata": {},
   "source": [
    "#### Fcatorial Program"
   ]
  },
  {
   "cell_type": "code",
   "execution_count": 41,
   "id": "4ef736dc-ff9a-4f89-a6a1-98d953c0995e",
   "metadata": {},
   "outputs": [
    {
     "name": "stdout",
     "output_type": "stream",
     "text": [
      "120\n",
      "40320\n",
      "5040\n"
     ]
    }
   ],
   "source": [
    "def factorial(num):\n",
    "    if(num==0 or num==1):\n",
    "        return 1\n",
    "    else:\n",
    "        return num*factorial(num-1)\n",
    "        \n",
    "print(factorial(5))\n",
    "print(factorial(8))\n",
    "print(factorial(7))"
   ]
  },
  {
   "cell_type": "markdown",
   "id": "862904f0-4955-4cdb-9cea-df408758fb98",
   "metadata": {},
   "source": [
    "#### Fibonacci Program"
   ]
  },
  {
   "cell_type": "code",
   "execution_count": 53,
   "id": "22d83f6d-1de7-4d43-b6fd-7567833e733b",
   "metadata": {},
   "outputs": [
    {
     "name": "stdin",
     "output_type": "stream",
     "text": [
      "Enter a number: 8\n"
     ]
    },
    {
     "name": "stdout",
     "output_type": "stream",
     "text": [
      "0\n",
      "1\n",
      "1\n",
      "2\n",
      "3\n",
      "5\n",
      "8\n",
      "13\n"
     ]
    }
   ],
   "source": [
    "a=int(input(\"Enter a number:\"))\n",
    "def fibo(n):\n",
    "    if(n==0):\n",
    "        return 0\n",
    "    elif(n==1):\n",
    "        return 1\n",
    "    else:\n",
    "        return fibo(n-1) + fibo(n-2)\n",
    "for i in range(a):\n",
    "    print(fibo(i))"
   ]
  },
  {
   "cell_type": "markdown",
   "id": "8f403acd-9572-4e69-ae9e-7b6be54c2e9a",
   "metadata": {},
   "source": [
    "# SETS "
   ]
  },
  {
   "cell_type": "code",
   "execution_count": 66,
   "id": "c0ae8ba6-5821-4d13-9bf6-bc508b1f91fc",
   "metadata": {},
   "outputs": [
    {
     "name": "stdout",
     "output_type": "stream",
     "text": [
      "{1, 2, 3, 5, 6, 7}\n",
      "{1, 2, 3, 5, 6, 7} {3, 6, 7}\n"
     ]
    }
   ],
   "source": [
    "s1={1,2,5,6}\n",
    "s2={3,6,7}\n",
    "\n",
    "print(s1.union(s2))    #union\n",
    "\n",
    "s1.update(s2)          #update\n",
    "print(s1,s2)"
   ]
  },
  {
   "cell_type": "code",
   "execution_count": 74,
   "id": "185512c8-fd44-457a-bd12-f7cd24d3d957",
   "metadata": {},
   "outputs": [
    {
     "name": "stdout",
     "output_type": "stream",
     "text": [
      "{'Kashu', 'Anans'}\n",
      "{'Kashu', 'Anans'}\n"
     ]
    }
   ],
   "source": [
    "a1={\"Sam\",\"Kashu\",\"Kash\",\"Anans\"}\n",
    "a2={\"Kashu\",\"Anans\"}\n",
    "s3=a1.intersection(a2) #intersection\n",
    "print(s3)\n",
    "\n",
    "a1.intersection_update(a2)      #intersection_update\n",
    "print(a1)"
   ]
  },
  {
   "cell_type": "markdown",
   "id": "58a4fb15-2edf-4fe1-9eea-f8dc79fe7faa",
   "metadata": {},
   "source": [
    "## else in For Loop"
   ]
  },
  {
   "cell_type": "code",
   "execution_count": 4,
   "id": "03024c9b-6186-47ff-9dd7-e098339e7d0c",
   "metadata": {},
   "outputs": [
    {
     "name": "stdout",
     "output_type": "stream",
     "text": [
      "0\n",
      "1\n",
      "2\n",
      "3\n",
      "4\n",
      "Sorry\n"
     ]
    }
   ],
   "source": [
    "for i in range(5):\n",
    "    print(i)\n",
    "else:\n",
    "    print(\"Sorry\")"
   ]
  },
  {
   "cell_type": "code",
   "execution_count": 8,
   "id": "eed05bc9-27ab-48a6-8b78-fb9e27dccc70",
   "metadata": {},
   "outputs": [
    {
     "name": "stdout",
     "output_type": "stream",
     "text": [
      "Sorry\n"
     ]
    }
   ],
   "source": [
    "for i in []:\n",
    "    print(i)\n",
    "else:\n",
    "    print(\"Sorry\")"
   ]
  },
  {
   "cell_type": "code",
   "execution_count": 10,
   "id": "97f26170-53ed-42d3-8ebd-4a485c9f280e",
   "metadata": {},
   "outputs": [
    {
     "name": "stdout",
     "output_type": "stream",
     "text": [
      "0\n",
      "1\n",
      "2\n",
      "3\n",
      "4\n"
     ]
    }
   ],
   "source": [
    "for i in range(5):\n",
    "    print(i)\n",
    "    if(i==4):\n",
    "        break\n",
    "else:\n",
    "    print(\"Sorry\")"
   ]
  },
  {
   "cell_type": "code",
   "execution_count": 18,
   "id": "3b47f22d-a2af-4465-b213-4a8526a68011",
   "metadata": {},
   "outputs": [
    {
     "name": "stdout",
     "output_type": "stream",
     "text": [
      "0\n",
      "1\n",
      "2\n",
      "3\n",
      "4\n",
      "5\n",
      "6\n",
      "7\n",
      "8\n",
      "Sorrryyyyyyyyy\n"
     ]
    }
   ],
   "source": [
    "i=0\n",
    "while i<9:\n",
    "    print(i)\n",
    "    i=i+1\n",
    "else:\n",
    "    print(\"Sorrryyyyyyyyy\")"
   ]
  },
  {
   "cell_type": "markdown",
   "id": "06669d6f-eacd-4dea-8758-8b2e2f54afb5",
   "metadata": {},
   "source": [
    "## Exception Hnadling"
   ]
  },
  {
   "cell_type": "code",
   "execution_count": 25,
   "id": "9ee500c5-19c4-4719-b05e-6d2758517b66",
   "metadata": {},
   "outputs": [
    {
     "name": "stdin",
     "output_type": "stream",
     "text": [
      "Enter a number: 9\n"
     ]
    },
    {
     "name": "stdout",
     "output_type": "stream",
     "text": [
      "Multiplication table of 9 is :\n",
      "9 X1 =9\n",
      "9 X2 =18\n",
      "9 X3 =27\n",
      "9 X4 =36\n",
      "9 X5 =45\n",
      "9 X6 =54\n",
      "9 X7 =63\n",
      "9 X8 =72\n",
      "9 X9 =81\n",
      "9 X10 =90\n",
      "End of prog\n"
     ]
    }
   ],
   "source": [
    "a=input(\"Enter a number:\")\n",
    "print(f\"Multiplication table of {a} is :\")\n",
    "for i in range(1,11):\n",
    "        print(f\"{int(a)} X{i} ={int(a)*i}\")\n",
    "print(\"End of prog\")"
   ]
  },
  {
   "cell_type": "code",
   "execution_count": 29,
   "id": "5cc8562e-686f-4e0b-84a4-35fb95740e36",
   "metadata": {},
   "outputs": [
    {
     "name": "stdin",
     "output_type": "stream",
     "text": [
      "Enter a number: Samarth\n"
     ]
    },
    {
     "name": "stdout",
     "output_type": "stream",
     "text": [
      "Multiplication table of Samarth is :\n"
     ]
    },
    {
     "ename": "ValueError",
     "evalue": "invalid literal for int() with base 10: 'Samarth'",
     "output_type": "error",
     "traceback": [
      "\u001b[1;31m---------------------------------------------------------------------------\u001b[0m",
      "\u001b[1;31mValueError\u001b[0m                                Traceback (most recent call last)",
      "Cell \u001b[1;32mIn[29], line 4\u001b[0m\n\u001b[0;32m      2\u001b[0m \u001b[38;5;28mprint\u001b[39m(\u001b[38;5;124mf\u001b[39m\u001b[38;5;124m\"\u001b[39m\u001b[38;5;124mMultiplication table of \u001b[39m\u001b[38;5;132;01m{\u001b[39;00ma\u001b[38;5;132;01m}\u001b[39;00m\u001b[38;5;124m is :\u001b[39m\u001b[38;5;124m\"\u001b[39m)\n\u001b[0;32m      3\u001b[0m \u001b[38;5;28;01mfor\u001b[39;00m i \u001b[38;5;129;01min\u001b[39;00m \u001b[38;5;28mrange\u001b[39m(\u001b[38;5;241m1\u001b[39m,\u001b[38;5;241m11\u001b[39m):\n\u001b[1;32m----> 4\u001b[0m         \u001b[38;5;28mprint\u001b[39m(\u001b[38;5;124mf\u001b[39m\u001b[38;5;124m\"\u001b[39m\u001b[38;5;132;01m{\u001b[39;00m\u001b[38;5;28mint\u001b[39m(a)\u001b[38;5;132;01m}\u001b[39;00m\u001b[38;5;124m X\u001b[39m\u001b[38;5;132;01m{\u001b[39;00mi\u001b[38;5;132;01m}\u001b[39;00m\u001b[38;5;124m =\u001b[39m\u001b[38;5;132;01m{\u001b[39;00m\u001b[38;5;28mint\u001b[39m(a)\u001b[38;5;241m*\u001b[39mi\u001b[38;5;132;01m}\u001b[39;00m\u001b[38;5;124m\"\u001b[39m)\n\u001b[0;32m      6\u001b[0m \u001b[38;5;28mprint\u001b[39m(\u001b[38;5;124m\"\u001b[39m\u001b[38;5;124mEnd of prog\u001b[39m\u001b[38;5;124m\"\u001b[39m)\n",
      "\u001b[1;31mValueError\u001b[0m: invalid literal for int() with base 10: 'Samarth'"
     ]
    }
   ],
   "source": [
    "a=input(\"Enter a number:\")\n",
    "print(f\"Multiplication table of {a} is :\")\n",
    "for i in range(1,11):\n",
    "        print(f\"{int(a)} X{i} ={int(a)*i}\")\n",
    "\n",
    "print(\"End of prog\")"
   ]
  },
  {
   "cell_type": "code",
   "execution_count": 33,
   "id": "f3b8cb13-e190-40a2-b16e-587897151819",
   "metadata": {},
   "outputs": [
    {
     "name": "stdin",
     "output_type": "stream",
     "text": [
      "Enter a number: Samarth\n"
     ]
    },
    {
     "name": "stdout",
     "output_type": "stream",
     "text": [
      "Multiplication table of Samarth is :\n",
      "Soryyyy\n",
      "End of prog\n"
     ]
    }
   ],
   "source": [
    "a=input(\"Enter a number:\")\n",
    "print(f\"Multiplication table of {a} is :\")\n",
    "try:\n",
    "    for i in range(1,11):\n",
    "        print(f\"{int(a)} X{i} ={int(a)*i}\")\n",
    "except Exception as e:\n",
    "    print(\"Soryyyy\")\n",
    "\n",
    "print(\"End of prog\")"
   ]
  },
  {
   "cell_type": "markdown",
   "id": "d5953087-a28f-4137-8afa-e44211f1c128",
   "metadata": {},
   "source": [
    "## EX4 - Secret Code Language"
   ]
  },
  {
   "cell_type": "code",
   "execution_count": null,
   "id": "fe5769f1-c785-4087-a63d-4faa83b606bb",
   "metadata": {},
   "outputs": [],
   "source": [
    "st = input(\"Enter message\")\n",
    "words = st.split(\" \")\n",
    "coding = input(\"1 for Coding or 0 for Decoding\")\n",
    "coding = True if (coding==\"1\") else False\n",
    "print(coding)\n",
    "if(coding):\n",
    "  nwords = []\n",
    "  for word in words:\n",
    "    if(len(word)>=3):\n",
    "      r1 = \"dsf\"\n",
    "      r2 = \"jkr\"\n",
    "      stnew = r1+ word[1:] + word[0] + r2\n",
    "      nwords.append(stnew)\n",
    "    else:\n",
    "      nwords.append(word[::-1])\n",
    "  print(\" \".join(nwords))\n",
    "\n",
    "else:\n",
    "  nwords = []\n",
    "  for word in words:\n",
    "    if(len(word)>=3): \n",
    "      stnew = word[3:-3]\n",
    "      stnew = stnew[-1] + stnew[:-1]\n",
    "      nwords.append(stnew)\n",
    "    else:\n",
    "      nwords.append(word[::-1])\n",
    "  print(\" \".join(nwords))"
   ]
  },
  {
   "cell_type": "markdown",
   "id": "8b6c75dc-969c-41f7-8421-ad4e996a731d",
   "metadata": {},
   "source": [
    "## Short Hand if else"
   ]
  },
  {
   "cell_type": "code",
   "execution_count": 4,
   "id": "bc388809-d045-4ddc-9626-8ee0bfe7696a",
   "metadata": {},
   "outputs": [
    {
     "name": "stdout",
     "output_type": "stream",
     "text": [
      "B\n"
     ]
    }
   ],
   "source": [
    "a=2\n",
    "b=95\n",
    "print(\"A\") if a>b else print(\"B\")"
   ]
  },
  {
   "cell_type": "code",
   "execution_count": 6,
   "id": "4135391c-9fd0-45a5-ba08-28de5c80a220",
   "metadata": {},
   "outputs": [
    {
     "name": "stdout",
     "output_type": "stream",
     "text": [
      "B\n"
     ]
    }
   ],
   "source": [
    "a=2\n",
    "b=95\n",
    "print(\"A\") if a>b else print(\"=\") if a==b else print(\"B\")"
   ]
  },
  {
   "cell_type": "code",
   "execution_count": 8,
   "id": "97faa1a0-3e78-4578-b2f6-0f208e317edc",
   "metadata": {},
   "outputs": [
    {
     "name": "stdout",
     "output_type": "stream",
     "text": [
      "=\n"
     ]
    }
   ],
   "source": [
    "a=2\n",
    "b=2\n",
    "print(\"A\") if a>b else print(\"=\") if a==b else print(\"B\")"
   ]
  },
  {
   "cell_type": "code",
   "execution_count": 12,
   "id": "edb48247-0021-4a28-85a7-57cf93ec3bca",
   "metadata": {},
   "outputs": [
    {
     "name": "stdout",
     "output_type": "stream",
     "text": [
      "A\n"
     ]
    }
   ],
   "source": [
    "a=244\n",
    "b=95\n",
    "print(\"A\") if a>b else print(\"=\") if a==b else print(\"B\")"
   ]
  },
  {
   "cell_type": "markdown",
   "id": "7bd51cd6-e018-4026-b6da-9a427834fa6f",
   "metadata": {},
   "source": [
    "### Enumerate Function"
   ]
  },
  {
   "cell_type": "code",
   "execution_count": 17,
   "id": "b64ae368-5f20-4b94-bf74-8f0e47e73c95",
   "metadata": {},
   "outputs": [
    {
     "name": "stdout",
     "output_type": "stream",
     "text": [
      "0 12\n",
      "1 56\n",
      "2 32\n",
      "3 67\n",
      "Hey\n",
      "4 89\n",
      "5 90\n",
      "6 2\n",
      "7 4\n",
      "8 5\n"
     ]
    }
   ],
   "source": [
    "marks=[12,56,32,67,89,90,2,4,5]\n",
    "index=0\n",
    "for index,mark in enumerate(marks):\n",
    "    print(index,mark)\n",
    "    if(index==3):\n",
    "        print(\"Hey\")"
   ]
  },
  {
   "cell_type": "code",
   "execution_count": 19,
   "id": "b71e440e-fa23-4578-a930-63e7173735e4",
   "metadata": {},
   "outputs": [
    {
     "name": "stdout",
     "output_type": "stream",
     "text": [
      "0 Apple\n",
      "1 Banana\n",
      "2 Grapes\n",
      "3 Mango\n"
     ]
    }
   ],
   "source": [
    "fruits=[\"Apple\",\"Banana\",\"Grapes\",\"Mango\"]\n",
    "for index,fruit in enumerate(fruits):\n",
    "    print(index,fruit)"
   ]
  },
  {
   "cell_type": "markdown",
   "id": "fee0eda7-8af7-4b8f-9278-1ed5886fdf3d",
   "metadata": {},
   "source": [
    "#### For starting index at your choice"
   ]
  },
  {
   "cell_type": "code",
   "execution_count": 22,
   "id": "2bd8b284-bcdf-4af0-8117-b74ad4628854",
   "metadata": {},
   "outputs": [
    {
     "name": "stdout",
     "output_type": "stream",
     "text": [
      "1 Apple\n",
      "2 Banana\n",
      "3 Grapes\n",
      "4 Mango\n"
     ]
    }
   ],
   "source": [
    "fruits=[\"Apple\",\"Banana\",\"Grapes\",\"Mango\"]\n",
    "for index,fruit in enumerate(fruits,start=1):\n",
    "    print(index,fruit)"
   ]
  },
  {
   "cell_type": "markdown",
   "id": "930451df-5e35-4a9e-b36b-1847ca2b88b9",
   "metadata": {},
   "source": [
    "## Import Module"
   ]
  },
  {
   "cell_type": "code",
   "execution_count": 10,
   "id": "1add599c-ef12-40cf-b633-8e2c77992069",
   "metadata": {},
   "outputs": [
    {
     "ename": "NameError",
     "evalue": "name 'math' is not defined",
     "output_type": "error",
     "traceback": [
      "\u001b[1;31m---------------------------------------------------------------------------\u001b[0m",
      "\u001b[1;31mNameError\u001b[0m                                 Traceback (most recent call last)",
      "Cell \u001b[1;32mIn[10], line 1\u001b[0m\n\u001b[1;32m----> 1\u001b[0m result\u001b[38;5;241m=\u001b[39mmath\u001b[38;5;241m.\u001b[39msqrt(\u001b[38;5;241m8\u001b[39m)\n\u001b[0;32m      2\u001b[0m \u001b[38;5;28mprint\u001b[39m(result)\n",
      "\u001b[1;31mNameError\u001b[0m: name 'math' is not defined"
     ]
    }
   ],
   "source": [
    "result=math.sqrt(8)\n",
    "print(result)"
   ]
  },
  {
   "cell_type": "code",
   "execution_count": 14,
   "id": "03d604dd-7165-459d-83ac-3ae13a530fbe",
   "metadata": {},
   "outputs": [
    {
     "name": "stdout",
     "output_type": "stream",
     "text": [
      "8.0\n"
     ]
    }
   ],
   "source": [
    "import math\n",
    "result=math.sqrt(64)\n",
    "print(result)"
   ]
  },
  {
   "cell_type": "code",
   "execution_count": 24,
   "id": "81a6dd15-cdde-4fae-bd40-d2bb5852659b",
   "metadata": {},
   "outputs": [
    {
     "name": "stdout",
     "output_type": "stream",
     "text": [
      "9\n"
     ]
    }
   ],
   "source": [
    "import math\n",
    "result=math.floor(9.8790)\n",
    "print(result)"
   ]
  },
  {
   "cell_type": "code",
   "execution_count": 18,
   "id": "df685ed5-1d17-4fe9-b0b4-d5590a14b1e7",
   "metadata": {},
   "outputs": [],
   "source": [
    "from math import sqrt"
   ]
  },
  {
   "cell_type": "code",
   "execution_count": 20,
   "id": "3d3a633e-1d9d-4236-af8e-2b9b7b9ca0cf",
   "metadata": {},
   "outputs": [
    {
     "name": "stdout",
     "output_type": "stream",
     "text": [
      "2.8284271247461903\n"
     ]
    }
   ],
   "source": [
    "result=math.sqrt(8)\n",
    "print(result)"
   ]
  },
  {
   "cell_type": "code",
   "execution_count": 26,
   "id": "4072ae8f-ec29-4868-b506-364c5169f920",
   "metadata": {},
   "outputs": [
    {
     "name": "stdout",
     "output_type": "stream",
     "text": [
      "2.8284271247461903\n",
      "3.141592653589793\n"
     ]
    }
   ],
   "source": [
    "from math import sqrt,pi\n",
    "result=math.sqrt(8)\n",
    "print(result)\n",
    "print(pi)"
   ]
  },
  {
   "cell_type": "markdown",
   "id": "c51fa289-78df-43cf-b970-dea48901f4e3",
   "metadata": {},
   "source": [
    "### os Module"
   ]
  },
  {
   "cell_type": "markdown",
   "id": "456b3dfd-d790-4a66-959e-9e7bb7c5cc7f",
   "metadata": {},
   "source": [
    "##### For creating files in the directory, try this in vs code, create a new file and in that file create many files(create a main.py file in vs)"
   ]
  },
  {
   "cell_type": "code",
   "execution_count": null,
   "id": "6baa97b5-694e-4c0e-9416-4d33b7f4d4e3",
   "metadata": {},
   "outputs": [],
   "source": [
    "import os\n",
    "if(not os.path.exists(\"data\")):\n",
    "    os.mkdir(\"data\")\n",
    "\n",
    "for i in range(0,100):\n",
    "    os.mkdir(f\"data/Day{i+1}\")"
   ]
  },
  {
   "cell_type": "markdown",
   "id": "bc8705f7-f41a-4ffb-9753-b63e714a248e",
   "metadata": {},
   "source": [
    "### For renaming the files in os module use this"
   ]
  },
  {
   "cell_type": "code",
   "execution_count": null,
   "id": "e2a2f2a2-fc9d-486c-a243-3c53e212a3ad",
   "metadata": {},
   "outputs": [],
   "source": [
    "import os\n",
    "\n",
    "\n",
    "for i in range(0,100):\n",
    "    os.rename(f\"data/Day{i+1}\", f\"data/Tutorial{i+1}\")"
   ]
  },
  {
   "cell_type": "markdown",
   "id": "7fc49f42-3a01-467f-b218-b070604f9d44",
   "metadata": {},
   "source": [
    "### For finding how many folders are there in the data"
   ]
  },
  {
   "cell_type": "code",
   "execution_count": null,
   "id": "10dade86-fafd-4744-925a-83feb1f2e02e",
   "metadata": {},
   "outputs": [],
   "source": [
    "import os\n",
    "folders=os.mkdir(\"data\") \n",
    "\n",
    "print(folders)\n",
    "\n",
    "for folder in folders:\n",
    "    print(folder)"
   ]
  },
  {
   "cell_type": "markdown",
   "id": "cc2b5adc-177a-4ff4-83e6-5473fef8a2a4",
   "metadata": {},
   "source": [
    "#### For finding the number of folders in the folders of the data"
   ]
  },
  {
   "cell_type": "code",
   "execution_count": null,
   "id": "db19edb1-74c6-465b-b46f-6803201565ec",
   "metadata": {},
   "outputs": [],
   "source": [
    "import os\n",
    "folders=os.mkdir(\"data\") \n",
    "\n",
    "print(folders)\n",
    "\n",
    "for folder in folders:\n",
    "    print(folder)\n",
    "    print(os.listdir(f\"data{folder}\"))"
   ]
  },
  {
   "cell_type": "code",
   "execution_count": null,
   "id": "3f42528f-5a7a-45a9-87e8-21d049822cfd",
   "metadata": {},
   "outputs": [],
   "source": []
  }
 ],
 "metadata": {
  "kernelspec": {
   "display_name": "Python 3 (ipykernel)",
   "language": "python",
   "name": "python3"
  },
  "language_info": {
   "codemirror_mode": {
    "name": "ipython",
    "version": 3
   },
   "file_extension": ".py",
   "mimetype": "text/x-python",
   "name": "python",
   "nbconvert_exporter": "python",
   "pygments_lexer": "ipython3",
   "version": "3.12.4"
  }
 },
 "nbformat": 4,
 "nbformat_minor": 5
}
